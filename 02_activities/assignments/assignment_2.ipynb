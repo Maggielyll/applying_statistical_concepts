{
 "cells": [
  {
   "cell_type": "markdown",
   "id": "7b0bcac6-5086-4f4e-928a-570a9ff7ae58",
   "metadata": {},
   "source": [
    "# Assignment 2"
   ]
  },
  {
   "cell_type": "markdown",
   "id": "5fce0350-2a17-4e93-8d4c-0b8748fdfc32",
   "metadata": {},
   "source": [
    "You only need to write one line of code for each question. When answering questions that ask you to identify or interpret something, the length of your response doesn’t matter. For example, if the answer is just ‘yes,’ ‘no,’ or a number, you can just give that answer without adding anything else.\n",
    "\n",
    "We will go through comparable code and concepts in the live learning session. If you run into trouble, start by using the help `help()` function in Python, to get information about the datasets and function in question. The internet is also a great resource when coding (though note that **no outside searches are required by the assignment!**). If you do incorporate code from the internet, please cite the source within your code (providing a URL is sufficient).\n",
    "\n",
    "Please bring questions that you cannot work out on your own to office hours, work periods or share with your peers on Slack. We will work with you through the issue."
   ]
  },
  {
   "cell_type": "markdown",
   "id": "5fc5001c-7715-4ebe-b0f7-e4bd04349629",
   "metadata": {},
   "source": [
    "### Linear Regression\n",
    "\n",
    "Let's set up our workspace and use the **Auto MPG dataset**. This dataset contains several features (such as horsepower, weight, displacement, and acceleration) and a target variable indicating the car's **miles per gallon (MPG)**.\n",
    "\n",
    "Here, we will model **MPG (continuous outcome)** based on the car's physical and performance characteristics."
   ]
  },
  {
   "cell_type": "code",
   "execution_count": 63,
   "id": "4a3485d6-ba58-4660-a983-5680821c5719",
   "metadata": {},
   "outputs": [],
   "source": [
    "# Import standard libraries\n",
    "import pandas as pd\n",
    "import numpy as np\n",
    "import matplotlib.pyplot as plt\n",
    "from sklearn.model_selection import train_test_split\n",
    "from sklearn.linear_model import LinearRegression\n",
    "from sklearn.metrics import mean_squared_error"
   ]
  },
  {
   "cell_type": "code",
   "execution_count": null,
   "id": "a431d282-f9ca-4d5d-8912-71ffc9d8ea19",
   "metadata": {},
   "outputs": [],
   "source": [
    "import seaborn as sns\n",
    "\n",
    "# Load the Auto MPG dataset\n",
    "mpg_data = sns.load_dataset('mpg')\n",
    "\n",
    "# Drop rows with missing values\n",
    "mpg_data = mpg_data.dropna(subset=['mpg', 'horsepower', 'weight', 'displacement'])\n",
    "\n",
    "# Display the DataFrame\n",
    "mpg_data.head()"
   ]
  },
  {
   "cell_type": "markdown",
   "id": "721b2b17",
   "metadata": {},
   "source": [
    "#### **Question 1:**  \n",
    "#### Data inspection\n",
    "\n",
    "Before fitting any model, it is essential to understand our data. **Use Python code** to answer the following questions about the **Auto MPG dataset**:\n",
    "\n",
    "_(i)_ How many observations (rows) does the dataset contain and also how many variables (columns) does the dataset contain?"
   ]
  },
  {
   "cell_type": "code",
   "execution_count": 2,
   "id": "5d79f1cf",
   "metadata": {},
   "outputs": [
    {
     "name": "stdout",
     "output_type": "stream",
     "text": [
      "392\n",
      "9\n"
     ]
    }
   ],
   "source": [
    "import seaborn as sns\n",
    "\n",
    "# Load the Auto MPG dataset\n",
    "mpg_data = sns.load_dataset('mpg')\n",
    "\n",
    "# Drop rows with missing values\n",
    "mpg_data = mpg_data.dropna(subset=['mpg', 'horsepower', 'weight', 'displacement'])\n",
    "\n",
    "# Display the DataFrame\n",
    "mpg_data.head()\n",
    "\n",
    "# Your answer here...\n",
    "\n",
    "observations = mpg_data.shape [0]  # number of rows\n",
    "variables = mpg_data.shape [1]     # number of columns\n",
    "\n",
    "print (observations)\n",
    "print (variables)"
   ]
  },
  {
   "cell_type": "markdown",
   "id": "a599c73b",
   "metadata": {},
   "source": [
    "_(ii)_ What is the 'variable type' of the response variable `mpg` (e.g., 'integer', 'category', etc.) and explain what it is in short? (1-2 sentences at max)"
   ]
  },
  {
   "cell_type": "code",
   "execution_count": 3,
   "id": "ac306190",
   "metadata": {},
   "outputs": [
    {
     "name": "stdout",
     "output_type": "stream",
     "text": [
      "float64\n"
     ]
    }
   ],
   "source": [
    "# Your answer here...\n",
    "\n",
    "print(mpg_data['mpg'].dtype)"
   ]
  },
  {
   "cell_type": "markdown",
   "id": "6d759089",
   "metadata": {},
   "source": [
    "Your explanation... \n"
   ]
  },
  {
   "cell_type": "markdown",
   "id": "be0119ad",
   "metadata": {},
   "source": [
    "_(iii)_ Find the 5 rows with the greatest `horsepower`."
   ]
  },
  {
   "cell_type": "code",
   "execution_count": 4,
   "id": "9f034a5d",
   "metadata": {},
   "outputs": [
    {
     "name": "stdout",
     "output_type": "stream",
     "text": [
      "      mpg  cylinders  displacement  horsepower  weight  acceleration  \\\n",
      "116  16.0          8         400.0       230.0    4278           9.5   \n",
      "8    14.0          8         455.0       225.0    4425          10.0   \n",
      "13   14.0          8         455.0       225.0    3086          10.0   \n",
      "95   12.0          8         455.0       225.0    4951          11.0   \n",
      "6    14.0          8         454.0       220.0    4354           9.0   \n",
      "\n",
      "     model_year origin                      name  \n",
      "116          73    usa        pontiac grand prix  \n",
      "8            70    usa          pontiac catalina  \n",
      "13           70    usa   buick estate wagon (sw)  \n",
      "95           73    usa  buick electra 225 custom  \n",
      "6            70    usa          chevrolet impala  \n"
     ]
    }
   ],
   "source": [
    "# Your answer here... \n",
    "\n",
    "# Find the 5 rows with the greatest horsepower\n",
    "top_5_horsepower = mpg_data.nlargest(5, 'horsepower')\n",
    "\n",
    "# Display the result\n",
    "print(top_5_horsepower)"
   ]
  },
  {
   "cell_type": "markdown",
   "id": "cbc54d2c",
   "metadata": {},
   "source": [
    "_(iv)_ How many predictor variables do we have (Hint: all variables other than `mpg`)?"
   ]
  },
  {
   "cell_type": "code",
   "execution_count": 5,
   "id": "1b91233e",
   "metadata": {},
   "outputs": [
    {
     "name": "stdout",
     "output_type": "stream",
     "text": [
      "8\n"
     ]
    }
   ],
   "source": [
    "# Your answer here...\n",
    "\n",
    "# Find the number of predictor variables (all variables other than 'mpg')\n",
    "predictor_variables = mpg_data.drop(columns=['mpg'])\n",
    "\n",
    "# Count the number of predictor variables\n",
    "num_predictors = predictor_variables.shape[1]\n",
    "\n",
    "# Display the result\n",
    "print(num_predictors)"
   ]
  },
  {
   "cell_type": "markdown",
   "id": "1741cf23",
   "metadata": {},
   "source": [
    "You can use `print()` and `describe()` to help answer these questions."
   ]
  },
  {
   "cell_type": "markdown",
   "id": "fa3832d7",
   "metadata": {},
   "source": [
    "#### **Question 2:** \n",
    "#### Data-visualization\n",
    "\n",
    "Before we fit and review model outputs, we should visualize our data. Review the code and plot, shown below."
   ]
  },
  {
   "cell_type": "code",
   "execution_count": null,
   "id": "732784d8",
   "metadata": {},
   "outputs": [],
   "source": [
    "# Exclude the 'mpg' (target variable) and non-numeric columns from the feature names\n",
    "feature_names = mpg_data.select_dtypes(include=[float, int]).columns.difference(['mpg'])\n",
    "\n",
    "# Loop through each numeric feature (column) in mpg_data\n",
    "for feature in feature_names:\n",
    "    # Extract the feature column and target variable (mpg)\n",
    "    X_feature = mpg_data[[feature]].values  # Extract as a 2D array\n",
    "    y = mpg_data['mpg'].values  # Target variable (mpg)\n",
    "    \n",
    "    # Create a scatter plot for the feature against the target (mpg)\n",
    "    plt.figure(figsize=(6, 4))\n",
    "    plt.scatter(X_feature, y, label='Data', color='blue')\n",
    "\n",
    "    # Fit a linear regression model\n",
    "    lm = LinearRegression()\n",
    "    lm.fit(X_feature, y)\n",
    "\n",
    "    # Plot the regression line\n",
    "    plt.plot(X_feature, lm.predict(X_feature), color='red', label='Regression Line')\n",
    "\n",
    "    # Add labels and title\n",
    "    plt.xlabel(feature)\n",
    "    plt.ylabel('Miles Per Gallon')\n",
    "    plt.title(f'{feature} vs Miles Per Gallon')\n",
    "\n",
    "    # Add a legend\n",
    "    plt.legend()\n",
    "\n",
    "    # Show the plot\n",
    "    plt.show()"
   ]
  },
  {
   "cell_type": "markdown",
   "id": "785c6a78",
   "metadata": {},
   "source": [
    "Answer the following questions:\n",
    "\n",
    "_(i)_ Describe the associations being plotted ? (i.e., positive association, negative association, no association)"
   ]
  },
  {
   "cell_type": "markdown",
   "id": "f67e57ab",
   "metadata": {},
   "source": [
    "> Your answer here...\n",
    "\n",
    "Positive Association: When the value of a feature increases, mpg also increases. This is indicated by an upward-sloping regression line.\n",
    "Negative Association: When the value of a feature increases, mpg decreases. This is indicated by a downward-sloping regression line.\n",
    "No Association: If the points are scattered randomly without a clear pattern or the regression line is flat (horizontal), this suggests no association between the feature and mpg."
   ]
  },
  {
   "cell_type": "markdown",
   "id": "5325992e",
   "metadata": {},
   "source": [
    "_(ii)_ What concept ‘defines’ the plotted line?"
   ]
  },
  {
   "cell_type": "markdown",
   "id": "843f9eef",
   "metadata": {},
   "source": [
    "> Your answer here...\n",
    "\n",
    "The plotted line refers to the regression line"
   ]
  },
  {
   "cell_type": "markdown",
   "id": "2b1ff3cf",
   "metadata": {},
   "source": [
    "_(iii)_ Do all data points in the dataset fall perfectly along the plotted line? If not, why might there be deviations between the data points and the line, and what do these deviations indicate about the relationship between the variables?"
   ]
  },
  {
   "cell_type": "markdown",
   "id": "2ea782fc",
   "metadata": {},
   "source": [
    "> Your answer here...\n",
    "\n",
    "No, not all data points fall perfectly on the line. Deviations occur due to data variability, measurement errors, or the model oversimplifying the relationship. These deviations indicate the strength of the linear fit."
   ]
  },
  {
   "cell_type": "markdown",
   "id": "4604ee03",
   "metadata": {},
   "source": [
    "#### **Question 3:**  \n",
    "#### Model fit  \n",
    "Now, let’s fit a multivariable linear regression model using the general syntax `lm()`. As above, use **mpg** as the response variable **Y**, and all other variables as the predictors.\n",
    "\n",
    "**Step 1: Split the dataset into train and test sets, using a 75-25 split. (use random_state=42)**"
   ]
  },
  {
   "cell_type": "code",
   "execution_count": 6,
   "id": "399225f4",
   "metadata": {},
   "outputs": [
    {
     "name": "stdout",
     "output_type": "stream",
     "text": [
      "(294, 8) (98, 8) (294,) (98,)\n"
     ]
    }
   ],
   "source": [
    "# Your answer here...\n",
    "\n",
    "from sklearn.model_selection import train_test_split\n",
    "\n",
    "# Define the features (all variables except 'mpg') and the target variable ('mpg')\n",
    "X = mpg_data.drop(columns=['mpg'])\n",
    "y = mpg_data['mpg']\n",
    "\n",
    "# Perform train-test split with 75-25 split, using random_state=42\n",
    "X_train, X_test, y_train, y_test = train_test_split(X, y, test_size=0.25, random_state=42)\n",
    "\n",
    "# Output the shapes of the train and test sets to verify the split\n",
    "print(X_train.shape, X_test.shape, y_train.shape, y_test.shape)"
   ]
  },
  {
   "cell_type": "markdown",
   "id": "f76b8f5c",
   "metadata": {},
   "source": [
    "**Step 2: Fit the linear regression model.**"
   ]
  },
  {
   "cell_type": "code",
   "execution_count": 7,
   "id": "ac1e1117",
   "metadata": {},
   "outputs": [
    {
     "name": "stdout",
     "output_type": "stream",
     "text": [
      "      predictor     slope  intercept\n",
      "0     cylinders -0.160143 -15.047371\n",
      "1  displacement  0.000373 -15.047371\n",
      "2    horsepower -0.001899 -15.047371\n",
      "3        weight -0.006457 -15.047371\n",
      "4  acceleration  0.057588 -15.047371\n",
      "5    model_year  0.762270 -15.047371\n"
     ]
    }
   ],
   "source": [
    "import pandas as pd\n",
    "import numpy as np\n",
    "import matplotlib.pyplot as plt\n",
    "from sklearn.model_selection import train_test_split\n",
    "from sklearn.linear_model import LinearRegression\n",
    "from sklearn.metrics import mean_squared_error\n",
    "\n",
    "\n",
    "\n",
    "\n",
    "# Your code here ...\n",
    "\n",
    "# Define numeric predictors (we only use numeric columns for the model)\n",
    "numeric_predictors = X_train.select_dtypes(include=[float, int])\n",
    "\n",
    "# Drop rows with missing values in the training set for numeric predictors\n",
    "numeric_predictors = numeric_predictors.dropna()\n",
    "\n",
    "# Adjust the target variable (y_train) to match the dropped rows in numeric_predictors\n",
    "y_train_cleaned = y_train[numeric_predictors.index]\n",
    "\n",
    "# Fit the linear regression model\n",
    "lm = LinearRegression()\n",
    "lm.fit(numeric_predictors, y_train_cleaned)\n",
    "\n",
    "\n",
    "\n",
    "# Create a DataFrame containing the slope (coefficients) and intercept\n",
    "coefficients_df = pd.DataFrame({\n",
    "    \"predictor\": numeric_predictors.columns,\n",
    "    \"slope\": lm.coef_,\n",
    "    \"intercept\": [lm.intercept_] * len(lm.coef_)\n",
    "})\n",
    "\n",
    "# Display the coefficients DataFrame\n",
    "print(coefficients_df)\n",
    "\n",
    "# lm.coef_ gives the coefficients for each predictor (change in miles per gallon per unit change in each predictor variable)\n",
    "# lm.intercept_ gives the intercept b_0 (the predicted miles per gallon when all predictors are set to 0)"
   ]
  },
  {
   "cell_type": "markdown",
   "id": "3f76bf62",
   "metadata": {},
   "source": [
    "#### **Question 4:** \n",
    "#### RMSPE\n",
    "**Step 3. Finally, we predict on the test data set to assess how well our model does.** \n",
    "\n",
    "We will evaluate our final model's test error measured by RMSPE."
   ]
  },
  {
   "cell_type": "code",
   "execution_count": 8,
   "id": "ffefa9f2",
   "metadata": {},
   "outputs": [
    {
     "name": "stdout",
     "output_type": "stream",
     "text": [
      "RMSPE: 0.14028515042072423\n"
     ]
    }
   ],
   "source": [
    "# Your code here ...\n",
    "\n",
    "import seaborn as sns\n",
    "from sklearn.model_selection import train_test_split\n",
    "from sklearn.linear_model import LinearRegression\n",
    "from sklearn.metrics import mean_squared_error\n",
    "import numpy as np\n",
    "\n",
    "# Load the Auto MPG dataset\n",
    "mpg_data = sns.load_dataset('mpg')\n",
    "\n",
    "# Drop rows with missing values\n",
    "mpg_data = mpg_data.dropna(subset=['mpg', 'horsepower', 'weight', 'displacement'])\n",
    "\n",
    "# Define the features (all variables except 'mpg') and the target variable ('mpg')\n",
    "X = mpg_data.drop(columns=['mpg'])\n",
    "y = mpg_data['mpg']\n",
    "\n",
    "# Perform train-test split with 75-25 split, using random_state=42\n",
    "X_train, X_test, y_train, y_test = train_test_split(X, y, test_size=0.25, random_state=42)\n",
    "\n",
    "# Refit the model (dropping missing values in training set)\n",
    "numeric_predictors = X_train.select_dtypes(include=[float, int]).dropna()\n",
    "y_train_cleaned = y_train[numeric_predictors.index]\n",
    "\n",
    "# Fit the linear regression model\n",
    "lm = LinearRegression()\n",
    "lm.fit(numeric_predictors, y_train_cleaned)\n",
    "\n",
    "# Clean the test set by dropping rows with missing values\n",
    "numeric_predictors_test = X_test.select_dtypes(include=[float, int]).dropna()\n",
    "y_test_cleaned = y_test[numeric_predictors_test.index]\n",
    "\n",
    "# Predict on the test set using the refitted model\n",
    "y_pred = lm.predict(numeric_predictors_test)\n",
    "\n",
    "# Calculate RMSPE (Root Mean Squared Prediction Error)\n",
    "rmspe = np.sqrt(mean_squared_error(y_test_cleaned, y_pred)) / np.mean(y_test_cleaned)\n",
    "\n",
    "# Display the RMSPE\n",
    "print(f\"RMSPE: {rmspe}\")"
   ]
  },
  {
   "cell_type": "markdown",
   "id": "6f8a69db",
   "metadata": {},
   "source": [
    "# Criteria\n",
    "\n",
    "| **Criteria**                                           | **Complete**                                      | **Incomplete**                                    |\n",
    "|--------------------------------------------------------|---------------------------------------------------|--------------------------------------------------|\n",
    "| **Data Inspection**                                    | Data is inspected for the number of variables, observations, and data types. | Data inspection is missing or incomplete.         |\n",
    "| **Data Visualization**                                 | Visualizations (e.g., scatter plots, histograms) are properly interepreted to explore the relationships between variables. | Data visualization were not correctly interpreted. |\n",
    "| **Model Initialization**                               | The linear regression model is correctly initialized.            | The linear regression model is not initialized or is incorrect. |\n",
    "| **Model Evaluation on Test Data**                      | The model is evaluated on the test data using appropriate metrics (e.g., RMSE). | The model evaluation is missing or uses the wrong metric. |\n"
   ]
  },
  {
   "cell_type": "markdown",
   "id": "0b4390cc",
   "metadata": {},
   "source": [
    "## Submission Information\n",
    "\n",
    "🚨 **Please review our [Assignment Submission Guide](https://github.com/UofT-DSI/onboarding/blob/main/onboarding_documents/submissions.md)** 🚨 for detailed instructions on how to format, branch, and submit your work. Following these guidelines is crucial for your submissions to be evaluated correctly.\n",
    "\n",
    "### Note:\n",
    "\n",
    "If you like, you may collaborate with others in the cohort. If you choose to do so, please indicate with whom you have worked with in your pull request by tagging their GitHub username. Separate submissions are required.\n",
    "\n",
    "### Submission Parameters:\n",
    "* Submission Due Date: `HH:MM AM/PM - DD/MM/YYYY`\n",
    "* The branch name for your repo should be: `assignment-2`\n",
    "* What to submit for this assignment:\n",
    "    * This Jupyter Notebook (assignment_1.ipynb) should be populated and should be the only change in your pull request.\n",
    "* What the pull request link should look like for this assignment: `https://github.com/<your_github_username>/applying_statistical_concepts/pull/<pr_id>`\n",
    "    * Open a private window in your browser. Copy and paste the link to your pull request into the address bar. Make sure you can see your pull request properly. This helps the technical facilitator and learning support staff review your submission easily.\n",
    "\n",
    "Checklist:\n",
    "- [ ] Created a branch with the correct naming convention.\n",
    "- [ ] Ensured that the repository is public.\n",
    "- [ ] Reviewed the PR description guidelines and adhered to them.\n",
    "- [ ] Verify that the link is accessible in a private browser window.\n",
    "\n",
    "If you encounter any difficulties or have questions, please don't hesitate to reach out to our team via our Slack at `#cohort-4-help`. Our Technical Facilitators and Learning Support staff are here to help you navigate any challenges.\n"
   ]
  },
  {
   "cell_type": "code",
   "execution_count": null,
   "id": "08fd209a-a2ff-4c19-a94a-aeed1ea7c889",
   "metadata": {},
   "outputs": [],
   "source": []
  }
 ],
 "metadata": {
  "kernelspec": {
   "display_name": "dsi_participant",
   "language": "python",
   "name": "python3"
  },
  "language_info": {
   "codemirror_mode": {
    "name": "ipython",
    "version": 3
   },
   "file_extension": ".py",
   "mimetype": "text/x-python",
   "name": "python",
   "nbconvert_exporter": "python",
   "pygments_lexer": "ipython3",
   "version": "3.9.15"
  }
 },
 "nbformat": 4,
 "nbformat_minor": 5
}
